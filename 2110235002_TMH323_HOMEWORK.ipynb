{
 "cells": [
  {
   "cell_type": "markdown",
   "id": "14e3a1c3",
   "metadata": {},
   "source": [
    "# Body Fat Prediction\n",
    "## 1. Veri seti hakkında bilgi edinme süreci\n",
    "### Dataset Hakkında\n",
    "252 erkekten alınmış vücut ölçülerini kullanarak vücut yağlarını hesaplayan veriseti\n",
    "#### Girdiler ve çıktılar\n",
    "* Density=Su altında ölçülmüş yoğunluk\n",
    "* Bodyfat=13 değişkenle elde edilen çıktı(yüzde olarak)\n",
    "* Age=Yaş(yıl cinsinden)\n",
    "* Weight= Ağırlık(lbs cinsinden)\n",
    "* Height=Uzunluk(inches cinsinden)\n",
    "* Neck=Boyun ölçüsü(cm cinsinden)\n",
    "* Chest=Göğüs ölçüsü(cm cinsinden)\n",
    "* Abdomen=Karın ölçüsü(cm cinsinden)\n",
    "* Hip=Kalça ölçüsü(cm cinsinden)\n",
    "* Thigh=İç bacak ölçüsü(cm cinsinden)\n",
    "* Knee=Diz ölçüsü(cm cinsinden)\n",
    "* Ankle=Ayak bileği ölçüsü(cm cinsinden)\n",
    "* Biceps=Üstteki ön kol ölçüsü(cm cinsinden)\n",
    "* Forearm=Ön kol ölçüsü(cm cinsinden)\n",
    "* Wrist=El bileği ölçüsü(cm cinsinden)\n",
    "#### Bu veriler, \"Basit ölçüm tekniklerini kullanan erkekler için genelleştirilmiş bir vücut kompozisyonunun tahmin denklemi\", K.W. Penrose, A.G. Nelson, A.G. Fisher, FACSM, İnsan Performansı Araştırma Merkezi, Brigham Young Üniversitesi, Provo, Utah 84602, Tıp ve Spor ve Egzersizde Bilim, cilt. 17, hayır. 2, Nisan 1985, s. 189."
   ]
  },
  {
   "cell_type": "markdown",
   "id": "a789fb28",
   "metadata": {},
   "source": [
    "## 2. Veri hazırlık süreci\n",
    "## Gerekli kütüphaneleri import edelim."
   ]
  },
  {
   "cell_type": "code",
   "execution_count": 1,
   "id": "88792317",
   "metadata": {},
   "outputs": [],
   "source": [
    "import numpy as np\n",
    "import pandas as pd\n",
    "import matplotlib.pyplot as plt"
   ]
  },
  {
   "cell_type": "markdown",
   "id": "0af647c9",
   "metadata": {},
   "source": [
    "## Veri setini sisteme yükleyelim ve head() komutuyla ilk 5 satıra göz atalım."
   ]
  },
  {
   "cell_type": "code",
   "execution_count": 2,
   "id": "d397f377",
   "metadata": {},
   "outputs": [
    {
     "data": {
      "text/html": [
       "<div>\n",
       "<style scoped>\n",
       "    .dataframe tbody tr th:only-of-type {\n",
       "        vertical-align: middle;\n",
       "    }\n",
       "\n",
       "    .dataframe tbody tr th {\n",
       "        vertical-align: top;\n",
       "    }\n",
       "\n",
       "    .dataframe thead th {\n",
       "        text-align: right;\n",
       "    }\n",
       "</style>\n",
       "<table border=\"1\" class=\"dataframe\">\n",
       "  <thead>\n",
       "    <tr style=\"text-align: right;\">\n",
       "      <th></th>\n",
       "      <th>Density</th>\n",
       "      <th>BodyFat</th>\n",
       "      <th>Age</th>\n",
       "      <th>Weight</th>\n",
       "      <th>Height</th>\n",
       "      <th>Neck</th>\n",
       "      <th>Chest</th>\n",
       "      <th>Abdomen</th>\n",
       "      <th>Hip</th>\n",
       "      <th>Thigh</th>\n",
       "      <th>Knee</th>\n",
       "      <th>Ankle</th>\n",
       "      <th>Biceps</th>\n",
       "      <th>Forearm</th>\n",
       "      <th>Wrist</th>\n",
       "    </tr>\n",
       "  </thead>\n",
       "  <tbody>\n",
       "    <tr>\n",
       "      <th>0</th>\n",
       "      <td>1.0708</td>\n",
       "      <td>12.3</td>\n",
       "      <td>23</td>\n",
       "      <td>154.25</td>\n",
       "      <td>67.75</td>\n",
       "      <td>36.2</td>\n",
       "      <td>93.1</td>\n",
       "      <td>85.2</td>\n",
       "      <td>94.5</td>\n",
       "      <td>59.0</td>\n",
       "      <td>37.3</td>\n",
       "      <td>21.9</td>\n",
       "      <td>32.0</td>\n",
       "      <td>27.4</td>\n",
       "      <td>17.1</td>\n",
       "    </tr>\n",
       "    <tr>\n",
       "      <th>1</th>\n",
       "      <td>1.0853</td>\n",
       "      <td>6.1</td>\n",
       "      <td>22</td>\n",
       "      <td>173.25</td>\n",
       "      <td>72.25</td>\n",
       "      <td>38.5</td>\n",
       "      <td>93.6</td>\n",
       "      <td>83.0</td>\n",
       "      <td>98.7</td>\n",
       "      <td>58.7</td>\n",
       "      <td>37.3</td>\n",
       "      <td>23.4</td>\n",
       "      <td>30.5</td>\n",
       "      <td>28.9</td>\n",
       "      <td>18.2</td>\n",
       "    </tr>\n",
       "    <tr>\n",
       "      <th>2</th>\n",
       "      <td>1.0414</td>\n",
       "      <td>25.3</td>\n",
       "      <td>22</td>\n",
       "      <td>154.00</td>\n",
       "      <td>66.25</td>\n",
       "      <td>34.0</td>\n",
       "      <td>95.8</td>\n",
       "      <td>87.9</td>\n",
       "      <td>99.2</td>\n",
       "      <td>59.6</td>\n",
       "      <td>38.9</td>\n",
       "      <td>24.0</td>\n",
       "      <td>28.8</td>\n",
       "      <td>25.2</td>\n",
       "      <td>16.6</td>\n",
       "    </tr>\n",
       "    <tr>\n",
       "      <th>3</th>\n",
       "      <td>1.0751</td>\n",
       "      <td>10.4</td>\n",
       "      <td>26</td>\n",
       "      <td>184.75</td>\n",
       "      <td>72.25</td>\n",
       "      <td>37.4</td>\n",
       "      <td>101.8</td>\n",
       "      <td>86.4</td>\n",
       "      <td>101.2</td>\n",
       "      <td>60.1</td>\n",
       "      <td>37.3</td>\n",
       "      <td>22.8</td>\n",
       "      <td>32.4</td>\n",
       "      <td>29.4</td>\n",
       "      <td>18.2</td>\n",
       "    </tr>\n",
       "    <tr>\n",
       "      <th>4</th>\n",
       "      <td>1.0340</td>\n",
       "      <td>28.7</td>\n",
       "      <td>24</td>\n",
       "      <td>184.25</td>\n",
       "      <td>71.25</td>\n",
       "      <td>34.4</td>\n",
       "      <td>97.3</td>\n",
       "      <td>100.0</td>\n",
       "      <td>101.9</td>\n",
       "      <td>63.2</td>\n",
       "      <td>42.2</td>\n",
       "      <td>24.0</td>\n",
       "      <td>32.2</td>\n",
       "      <td>27.7</td>\n",
       "      <td>17.7</td>\n",
       "    </tr>\n",
       "  </tbody>\n",
       "</table>\n",
       "</div>"
      ],
      "text/plain": [
       "   Density  BodyFat  Age  Weight  Height  Neck  Chest  Abdomen    Hip  Thigh  \\\n",
       "0   1.0708     12.3   23  154.25   67.75  36.2   93.1     85.2   94.5   59.0   \n",
       "1   1.0853      6.1   22  173.25   72.25  38.5   93.6     83.0   98.7   58.7   \n",
       "2   1.0414     25.3   22  154.00   66.25  34.0   95.8     87.9   99.2   59.6   \n",
       "3   1.0751     10.4   26  184.75   72.25  37.4  101.8     86.4  101.2   60.1   \n",
       "4   1.0340     28.7   24  184.25   71.25  34.4   97.3    100.0  101.9   63.2   \n",
       "\n",
       "   Knee  Ankle  Biceps  Forearm  Wrist  \n",
       "0  37.3   21.9    32.0     27.4   17.1  \n",
       "1  37.3   23.4    30.5     28.9   18.2  \n",
       "2  38.9   24.0    28.8     25.2   16.6  \n",
       "3  37.3   22.8    32.4     29.4   18.2  \n",
       "4  42.2   24.0    32.2     27.7   17.7  "
      ]
     },
     "execution_count": 2,
     "metadata": {},
     "output_type": "execute_result"
    }
   ],
   "source": [
    "df=pd.read_csv(\"bodyfat.csv\",sep=\",\")\n",
    "df.head()"
   ]
  },
  {
   "cell_type": "markdown",
   "id": "ca7dfb52",
   "metadata": {},
   "source": [
    "## Veri setindeki yağ oranlarının dağılımını incelemek istedim."
   ]
  },
  {
   "cell_type": "code",
   "execution_count": 3,
   "id": "a6b85450",
   "metadata": {},
   "outputs": [
    {
     "data": {
      "image/png": "[encoded data removed]",
      "text/plain": [
       "<Figure size 432x288 with 1 Axes>"
      ]
     },
     "metadata": {
      "needs_background": "light"
     },
     "output_type": "display_data"
    }
   ],
   "source": [
    "plt.hist(df[\"BodyFat\"],bins=40)\n",
    "plt.title(\"Body Fat Histogram Grafiği\")\n",
    "plt.show()"
   ]
  },
  {
   "cell_type": "markdown",
   "id": "a7319b26",
   "metadata": {},
   "source": [
    "## Info() komutuyla veri setini inceleyelim."
   ]
  },
  {
   "cell_type": "code",
   "execution_count": 4,
   "id": "c4ffd8d3",
   "metadata": {},
   "outputs": [
    {
     "name": "stdout",
     "output_type": "stream",
     "text": [
      "<class 'pandas.core.frame.DataFrame'>\n",
      "RangeIndex: 252 entries, 0 to 251\n",
      "Data columns (total 15 columns):\n",
      " #   Column   Non-Null Count  Dtype  \n",
      "---  ------   --------------  -----  \n",
      " 0   Density  252 non-null    float64\n",
      " 1   BodyFat  252 non-null    float64\n",
      " 2   Age      252 non-null    int64  \n",
      " 3   Weight   252 non-null    float64\n",
      " 4   Height   252 non-null    float64\n",
      " 5   Neck     252 non-null    float64\n",
      " 6   Chest    252 non-null    float64\n",
      " 7   Abdomen  252 non-null    float64\n",
      " 8   Hip      252 non-null    float64\n",
      " 9   Thigh    252 non-null    float64\n",
      " 10  Knee     252 non-null    float64\n",
      " 11  Ankle    252 non-null    float64\n",
      " 12  Biceps   252 non-null    float64\n",
      " 13  Forearm  252 non-null    float64\n",
      " 14  Wrist    252 non-null    float64\n",
      "dtypes: float64(14), int64(1)\n",
      "memory usage: 29.7 KB\n"
     ]
    }
   ],
   "source": [
    "df.info() "
   ]
  },
  {
   "cell_type": "markdown",
   "id": "4f66d61e",
   "metadata": {},
   "source": [
    "## Normalizasyon işlemi yapalım. Bu işlem daha verimli bir sonuç almamızı sağlar."
   ]
  },
  {
   "cell_type": "code",
   "execution_count": 7,
   "id": "0ca4ead5",
   "metadata": {},
   "outputs": [
    {
     "name": "stdout",
     "output_type": "stream",
     "text": [
      "    Density       Age    Weight    Height      Neck     Chest   Abdomen  \\\n",
      "0  0.258947  0.016949  0.146127  0.792746  0.253731  0.242531  0.200762   \n",
      "1  0.128421  0.000000  0.223789  0.886010  0.368159  0.251318  0.172808   \n",
      "2  0.532632  0.000000  0.145105  0.761658  0.144279  0.289982  0.235070   \n",
      "3  0.218947  0.067797  0.270795  0.886010  0.313433  0.395431  0.216010   \n",
      "4  0.604211  0.033898  0.268751  0.865285  0.164179  0.316344  0.388818   \n",
      "\n",
      "        Hip     Thigh      Knee     Ankle    Biceps   Forearm     Wrist  \n",
      "0  0.151515  0.294264  0.267081  0.189189  0.356436  0.460432  0.232143  \n",
      "1  0.218501  0.286783  0.267081  0.290541  0.282178  0.568345  0.428571  \n",
      "2  0.226475  0.309227  0.366460  0.331081  0.198020  0.302158  0.142857  \n",
      "3  0.258373  0.321696  0.267081  0.250000  0.376238  0.604317  0.428571  \n",
      "4  0.269537  0.399002  0.571429  0.331081  0.366337  0.482014  0.339286  \n"
     ]
    }
   ],
   "source": [
    "from sklearn.preprocessing import MinMaxScaler\n",
    "# Normalizasyon için scaler nesnesi oluşturma\n",
    "scaler = MinMaxScaler()\n",
    "# Girdi verilerini normalleştirme (BodyFat hariç tüm sütunlar)\n",
    "X_normalized = scaler.fit_transform(df.drop('Density', axis=1))\n",
    "#Normalleştirilmiş verileri DataFrame'e dönüştürme\n",
    "X_normalized = pd.DataFrame(X_normalized, columns=df.columns.drop('BodyFat'))\n",
    "print(X_normalized.head())"
   ]
  },
  {
   "cell_type": "markdown",
   "id": "43c0cdab",
   "metadata": {},
   "source": [
    "## Veri setinin son halini \"body\" isimli bir csv dosyası olarak kaydettim."
   ]
  },
  {
   "cell_type": "code",
   "execution_count": 8,
   "id": "96659c70",
   "metadata": {},
   "outputs": [],
   "source": [
    "df.to_csv(\"body.csv\",sep=\",\")"
   ]
  },
  {
   "cell_type": "markdown",
   "id": "e08075eb",
   "metadata": {},
   "source": [
    "## 3. Multiple Linear Regression işlemine geçelim"
   ]
  },
  {
   "cell_type": "code",
   "execution_count": 41,
   "id": "cd01fd4b",
   "metadata": {},
   "outputs": [
    {
     "data": {
      "text/html": [
       "<div>\n",
       "<style scoped>\n",
       "    .dataframe tbody tr th:only-of-type {\n",
       "        vertical-align: middle;\n",
       "    }\n",
       "\n",
       "    .dataframe tbody tr th {\n",
       "        vertical-align: top;\n",
       "    }\n",
       "\n",
       "    .dataframe thead th {\n",
       "        text-align: right;\n",
       "    }\n",
       "</style>\n",
       "<table border=\"1\" class=\"dataframe\">\n",
       "  <thead>\n",
       "    <tr style=\"text-align: right;\">\n",
       "      <th></th>\n",
       "      <th>Unnamed: 0</th>\n",
       "      <th>Density</th>\n",
       "      <th>BodyFat</th>\n",
       "      <th>Age</th>\n",
       "      <th>Weight</th>\n",
       "      <th>Height</th>\n",
       "      <th>Neck</th>\n",
       "      <th>Chest</th>\n",
       "      <th>Abdomen</th>\n",
       "      <th>Hip</th>\n",
       "      <th>Thigh</th>\n",
       "      <th>Knee</th>\n",
       "      <th>Ankle</th>\n",
       "      <th>Biceps</th>\n",
       "      <th>Forearm</th>\n",
       "      <th>Wrist</th>\n",
       "    </tr>\n",
       "  </thead>\n",
       "  <tbody>\n",
       "    <tr>\n",
       "      <th>0</th>\n",
       "      <td>0</td>\n",
       "      <td>1.0708</td>\n",
       "      <td>12.3</td>\n",
       "      <td>23</td>\n",
       "      <td>154.25</td>\n",
       "      <td>67.75</td>\n",
       "      <td>36.2</td>\n",
       "      <td>93.1</td>\n",
       "      <td>85.2</td>\n",
       "      <td>94.5</td>\n",
       "      <td>59.0</td>\n",
       "      <td>37.3</td>\n",
       "      <td>21.9</td>\n",
       "      <td>32.0</td>\n",
       "      <td>27.4</td>\n",
       "      <td>17.1</td>\n",
       "    </tr>\n",
       "    <tr>\n",
       "      <th>1</th>\n",
       "      <td>1</td>\n",
       "      <td>1.0853</td>\n",
       "      <td>6.1</td>\n",
       "      <td>22</td>\n",
       "      <td>173.25</td>\n",
       "      <td>72.25</td>\n",
       "      <td>38.5</td>\n",
       "      <td>93.6</td>\n",
       "      <td>83.0</td>\n",
       "      <td>98.7</td>\n",
       "      <td>58.7</td>\n",
       "      <td>37.3</td>\n",
       "      <td>23.4</td>\n",
       "      <td>30.5</td>\n",
       "      <td>28.9</td>\n",
       "      <td>18.2</td>\n",
       "    </tr>\n",
       "    <tr>\n",
       "      <th>2</th>\n",
       "      <td>2</td>\n",
       "      <td>1.0414</td>\n",
       "      <td>25.3</td>\n",
       "      <td>22</td>\n",
       "      <td>154.00</td>\n",
       "      <td>66.25</td>\n",
       "      <td>34.0</td>\n",
       "      <td>95.8</td>\n",
       "      <td>87.9</td>\n",
       "      <td>99.2</td>\n",
       "      <td>59.6</td>\n",
       "      <td>38.9</td>\n",
       "      <td>24.0</td>\n",
       "      <td>28.8</td>\n",
       "      <td>25.2</td>\n",
       "      <td>16.6</td>\n",
       "    </tr>\n",
       "    <tr>\n",
       "      <th>3</th>\n",
       "      <td>3</td>\n",
       "      <td>1.0751</td>\n",
       "      <td>10.4</td>\n",
       "      <td>26</td>\n",
       "      <td>184.75</td>\n",
       "      <td>72.25</td>\n",
       "      <td>37.4</td>\n",
       "      <td>101.8</td>\n",
       "      <td>86.4</td>\n",
       "      <td>101.2</td>\n",
       "      <td>60.1</td>\n",
       "      <td>37.3</td>\n",
       "      <td>22.8</td>\n",
       "      <td>32.4</td>\n",
       "      <td>29.4</td>\n",
       "      <td>18.2</td>\n",
       "    </tr>\n",
       "    <tr>\n",
       "      <th>4</th>\n",
       "      <td>4</td>\n",
       "      <td>1.0340</td>\n",
       "      <td>28.7</td>\n",
       "      <td>24</td>\n",
       "      <td>184.25</td>\n",
       "      <td>71.25</td>\n",
       "      <td>34.4</td>\n",
       "      <td>97.3</td>\n",
       "      <td>100.0</td>\n",
       "      <td>101.9</td>\n",
       "      <td>63.2</td>\n",
       "      <td>42.2</td>\n",
       "      <td>24.0</td>\n",
       "      <td>32.2</td>\n",
       "      <td>27.7</td>\n",
       "      <td>17.7</td>\n",
       "    </tr>\n",
       "  </tbody>\n",
       "</table>\n",
       "</div>"
      ],
      "text/plain": [
       "   Unnamed: 0  Density  BodyFat  Age  Weight  Height  Neck  Chest  Abdomen  \\\n",
       "0           0   1.0708     12.3   23  154.25   67.75  36.2   93.1     85.2   \n",
       "1           1   1.0853      6.1   22  173.25   72.25  38.5   93.6     83.0   \n",
       "2           2   1.0414     25.3   22  154.00   66.25  34.0   95.8     87.9   \n",
       "3           3   1.0751     10.4   26  184.75   72.25  37.4  101.8     86.4   \n",
       "4           4   1.0340     28.7   24  184.25   71.25  34.4   97.3    100.0   \n",
       "\n",
       "     Hip  Thigh  Knee  Ankle  Biceps  Forearm  Wrist  \n",
       "0   94.5   59.0  37.3   21.9    32.0     27.4   17.1  \n",
       "1   98.7   58.7  37.3   23.4    30.5     28.9   18.2  \n",
       "2   99.2   59.6  38.9   24.0    28.8     25.2   16.6  \n",
       "3  101.2   60.1  37.3   22.8    32.4     29.4   18.2  \n",
       "4  101.9   63.2  42.2   24.0    32.2     27.7   17.7  "
      ]
     },
     "execution_count": 41,
     "metadata": {},
     "output_type": "execute_result"
    }
   ],
   "source": [
    "from sklearn.linear_model import LinearRegression\n",
    "df=pd.read_csv(\"body.csv\",sep=\",\")\n",
    "df.head()"
   ]
  },
  {
   "cell_type": "markdown",
   "id": "6c0758ac",
   "metadata": {},
   "source": [
    "## Değerlerimizi x ve y değişkenlerine atadıktan sonra fit edelim."
   ]
  },
  {
   "cell_type": "code",
   "execution_count": 42,
   "id": "fb17261d",
   "metadata": {},
   "outputs": [
    {
     "data": {
      "text/plain": [
       "LinearRegression()"
      ]
     },
     "execution_count": 42,
     "metadata": {},
     "output_type": "execute_result"
    }
   ],
   "source": [
    "# Girdi ve çıktı değişkenlerini ayırma\n",
    "X = df.drop('BodyFat', axis=1)\n",
    "y = df['BodyFat']\n",
    "from sklearn.model_selection import train_test_split\n",
    "# Veriyi eğitim ve test setlerine ayırma\n",
    "X_train, X_test, y_train, y_test = train_test_split(X, y, test_size=0.2, random_state=42)\n",
    "\n",
    "mlr=LinearRegression()\n",
    "mlr.fit(X_train,y_train)"
   ]
  },
  {
   "cell_type": "code",
   "execution_count": 43,
   "id": "6a225033",
   "metadata": {},
   "outputs": [],
   "source": [
    "y_pred = mlr.predict(X_test)"
   ]
  },
  {
   "cell_type": "markdown",
   "id": "e8b60d85",
   "metadata": {},
   "source": [
    "## Bunlar aslında b0 ve b1 değerlerimiz"
   ]
  },
  {
   "cell_type": "code",
   "execution_count": 44,
   "id": "456e5262",
   "metadata": {},
   "outputs": [
    {
     "name": "stdout",
     "output_type": "stream",
     "text": [
      "444.08345045690885 [-1.39434952e-03 -4.04077351e+02  2.12988976e-02  2.32113337e-02\n",
      " -1.40612530e-02 -9.26794173e-03  1.01572604e-02  2.29102410e-02\n",
      "  1.95324049e-02 -2.69300932e-02 -2.10420250e-02 -1.26430415e-01\n",
      " -4.91496362e-02  1.36636219e-02 -2.93639823e-02]\n"
     ]
    }
   ],
   "source": [
    "print(mlr.intercept_,mlr.coef_)"
   ]
  },
  {
   "cell_type": "markdown",
   "id": "aabe313f",
   "metadata": {},
   "source": [
    "## Mutliple linar regression kullanarak r2 score, mae, mse, rmse, mape değerlerini bulalım."
   ]
  },
  {
   "cell_type": "code",
   "execution_count": 45,
   "id": "390ec794",
   "metadata": {},
   "outputs": [
    {
     "name": "stdout",
     "output_type": "stream",
     "text": [
      "mlr r2: 0.9909291971003428\n",
      "mlr mae: 0.4838728155763708\n",
      "mlr mse: 0.42195624399833714\n",
      "mlr rmse: 0.6495815914866563\n",
      "mlr mape: 0.028720304975917866\n"
     ]
    }
   ],
   "source": [
    "from sklearn.metrics import r2_score,mean_absolute_error,mean_absolute_percentage_error,mean_squared_error\n",
    "print(\"mlr r2:\",r2_score(y_test,y_pred))\n",
    "print(\"mlr mae:\",mean_absolute_error(y_test,y_pred))\n",
    "print(\"mlr mse:\",mean_squared_error(y_test,y_pred))\n",
    "print(\"mlr rmse:\",(mean_squared_error(y_test,y_pred))**0.5)\n",
    "print(\"mlr mape:\",mean_absolute_percentage_error(y_test,y_pred))"
   ]
  },
  {
   "cell_type": "markdown",
   "id": "d8794e4b",
   "metadata": {},
   "source": [
    "## 4. Decision Tree Regressor kütüphanesini import edip r2 score, mae,mse,rmse,mape değerlerini görelim."
   ]
  },
  {
   "cell_type": "code",
   "execution_count": 46,
   "id": "a5aa9263",
   "metadata": {},
   "outputs": [],
   "source": [
    "from sklearn.tree import DecisionTreeRegressor\n",
    "from sklearn.metrics import r2_score,mean_absolute_error,mean_squared_error,mean_absolute_percentage_error"
   ]
  },
  {
   "cell_type": "code",
   "execution_count": 47,
   "id": "b2176def",
   "metadata": {},
   "outputs": [
    {
     "name": "stdout",
     "output_type": "stream",
     "text": [
      "tree r2: 0.9886993102935282\n",
      "tree mae: 0.3901960784313724\n",
      "tree mse: 0.5256862745098039\n",
      "tree rmse: 0.7250422570511348\n",
      "tree mape: 0.024116472068132836\n"
     ]
    }
   ],
   "source": [
    "tree_reg=DecisionTreeRegressor()\n",
    "tree_reg.fit(X_train,y_train)\n",
    "tree_pred=tree_reg.predict(X_test)\n",
    "print(\"tree r2:\",r2_score(y_test,tree_pred))\n",
    "print(\"tree mae:\",mean_absolute_error(y_test,tree_pred))\n",
    "print(\"tree mse:\",mean_squared_error(y_test,tree_pred))\n",
    "print(\"tree rmse:\",(mean_squared_error(y_test,tree_pred))**0.5)\n",
    "print(\"tree mape:\",mean_absolute_percentage_error(y_test,tree_pred))"
   ]
  },
  {
   "cell_type": "markdown",
   "id": "007261b2",
   "metadata": {},
   "source": [
    "## 5. Random Forest Regressor kullanarak değerlerimizi predict edelim ve r2 score, mae, mse, rmse, mape değerlerine bakalım."
   ]
  },
  {
   "cell_type": "code",
   "execution_count": 48,
   "id": "4a38512d",
   "metadata": {
    "scrolled": true
   },
   "outputs": [
    {
     "name": "stdout",
     "output_type": "stream",
     "text": [
      "rf r2: 0.9983575119820486\n",
      "rf mae: 0.18192156862745168\n",
      "tree mse: 0.07640537254902038\n",
      "tree rmse: 0.27641521765094695\n",
      "tree mape: 0.012982373232185457\n"
     ]
    }
   ],
   "source": [
    "from sklearn.ensemble import RandomForestRegressor\n",
    "rf=RandomForestRegressor(n_estimators=100,random_state=37)\n",
    "rf.fit(X_train,y_train)\n",
    "rf_pred=rf.predict(X_test)\n",
    "print(\"rf r2:\",r2_score(y_test,rf_pred))\n",
    "print(\"rf mae:\",mean_absolute_error(y_test,rf_pred))\n",
    "print(\"tree mse:\",mean_squared_error(y_test,rf_pred))\n",
    "print(\"tree rmse:\",(mean_squared_error(y_test,rf_pred))**0.5)\n",
    "print(\"tree mape:\",mean_absolute_percentage_error(y_test,rf_pred))"
   ]
  },
  {
   "cell_type": "markdown",
   "id": "fab6bf5f",
   "metadata": {},
   "source": [
    "## 6. Son olarak birlikte sonuçları görmek için train test split uygulayalım"
   ]
  },
  {
   "cell_type": "code",
   "execution_count": 49,
   "id": "4e7ab59c",
   "metadata": {},
   "outputs": [],
   "source": [
    "from sklearn.model_selection import train_test_split\n",
    "x_train,x_test,y_train,y_test=train_test_split(X,y,test_size=0.2,random_state=37)\n",
    "\n",
    "mlr=LinearRegression()\n",
    "mlr.fit(x_train,y_train)\n",
    "mlr_pred=mlr.predict(x_test)\n",
    "\n",
    "dt=DecisionTreeRegressor()\n",
    "dt.fit(x_train,y_train)\n",
    "dt_pred=dt.predict(x_test)\n",
    "\n",
    "\n",
    "rf=RandomForestRegressor(n_estimators=100,random_state=37)\n",
    "rf.fit(x_train,y_train)\n",
    "rf_pred=rf.predict(x_test)"
   ]
  },
  {
   "cell_type": "code",
   "execution_count": 50,
   "id": "ac4c48b9",
   "metadata": {},
   "outputs": [
    {
     "name": "stdout",
     "output_type": "stream",
     "text": [
      "mlr:  r2: 0.9891758332364377 mae: 0.5253012423158717\n",
      "dt:  r2: 0.9946813104785936 mae: 0.3196078431372554\n",
      "rf:  r2: 0.9979444747326535 mae: 0.18421568627451143\n"
     ]
    }
   ],
   "source": [
    "from sklearn.metrics import r2_score,mean_absolute_error,mean_squared_error\n",
    "print(\"mlr: \",\"r2:\",r2_score(y_test,mlr_pred),\"mae:\",mean_absolute_error(y_test,mlr_pred))\n",
    "print(\"dt: \",\"r2:\",r2_score(y_test,dt_pred),\"mae:\",mean_absolute_error(y_test,dt_pred))\n",
    "print(\"rf: \",\"r2:\",r2_score(y_test,rf_pred),\"mae:\",mean_absolute_error(y_test,rf_pred))"
   ]
  },
  {
   "cell_type": "markdown",
   "id": "80fc357c",
   "metadata": {},
   "source": [
    "## Yorum:"
   ]
  },
  {
   "cell_type": "markdown",
   "id": "90404862",
   "metadata": {},
   "source": [
    "* En başından itibaren train değerlerle çalıştım ve overfite düşmemiş oldu. Hatanın nereden kaynaklandığını analdığımızda sorunu daha kolay çözebiliyoruz.\n",
    "* MSE değeri modelin ortalama kare hatasıdır.Ne kadar az o kadar iyi.MSE=8.80X10-5=0.628\n",
    "* RMSE=0.00938(Kök ortalama kare hata)\n",
    "* Bu değerler gösteriyor ki düşük bir MSE değeri modelin gerçek değerlere ne kadar yakın tahmin yaptığını gösterir.\n",
    "* r2_score, modelin bağımsız değişkenlerinin varyansının %62.8 açıkladığını gösterir."
   ]
  },
  {
   "cell_type": "markdown",
   "id": "426c1b0d",
   "metadata": {},
   "source": [
    "## Birkaç ek bilgi "
   ]
  },
  {
   "cell_type": "code",
   "execution_count": 51,
   "id": "79265f4d",
   "metadata": {},
   "outputs": [],
   "source": [
    "df_errors = pd.DataFrame({'Gerçek': y_test, 'Tahmin': y_pred})\n",
    "df_errors['Hata'] = df_errors['Gerçek'] - df_errors['Tahmin']"
   ]
  },
  {
   "cell_type": "code",
   "execution_count": 52,
   "id": "1df8ee03",
   "metadata": {},
   "outputs": [
    {
     "data": {
      "image/png": "[encoded data removed]",
      "text/plain": [
       "<Figure size 432x288 with 1 Axes>"
      ]
     },
     "metadata": {
      "needs_background": "light"
     },
     "output_type": "display_data"
    }
   ],
   "source": [
    "import matplotlib.pyplot as plt\n",
    "\n",
    "# Hataların histogramını çizme\n",
    "plt.hist(df_errors['Hata'], bins=30)\n",
    "plt.xlabel('Hata')\n",
    "plt.ylabel('Frekans')\n",
    "plt.title('Hata Dağılımı')\n",
    "plt.show()"
   ]
  },
  {
   "cell_type": "code",
   "execution_count": 53,
   "id": "fc91ac0b",
   "metadata": {},
   "outputs": [
    {
     "data": {
      "text/html": [
       "<div>\n",
       "<style scoped>\n",
       "    .dataframe tbody tr th:only-of-type {\n",
       "        vertical-align: middle;\n",
       "    }\n",
       "\n",
       "    .dataframe tbody tr th {\n",
       "        vertical-align: top;\n",
       "    }\n",
       "\n",
       "    .dataframe thead th {\n",
       "        text-align: right;\n",
       "    }\n",
       "</style>\n",
       "<table border=\"1\" class=\"dataframe\">\n",
       "  <thead>\n",
       "    <tr style=\"text-align: right;\">\n",
       "      <th></th>\n",
       "      <th>Gerçek</th>\n",
       "      <th>Tahmin</th>\n",
       "      <th>Hata</th>\n",
       "    </tr>\n",
       "  </thead>\n",
       "  <tbody>\n",
       "    <tr>\n",
       "      <th>113</th>\n",
       "      <td>21.3</td>\n",
       "      <td>19.524975</td>\n",
       "      <td>1.775025</td>\n",
       "    </tr>\n",
       "    <tr>\n",
       "      <th>30</th>\n",
       "      <td>11.9</td>\n",
       "      <td>19.373721</td>\n",
       "      <td>-7.473721</td>\n",
       "    </tr>\n",
       "    <tr>\n",
       "      <th>133</th>\n",
       "      <td>26.1</td>\n",
       "      <td>27.543696</td>\n",
       "      <td>-1.443696</td>\n",
       "    </tr>\n",
       "    <tr>\n",
       "      <th>40</th>\n",
       "      <td>34.5</td>\n",
       "      <td>20.412019</td>\n",
       "      <td>14.087981</td>\n",
       "    </tr>\n",
       "    <tr>\n",
       "      <th>4</th>\n",
       "      <td>28.7</td>\n",
       "      <td>16.628782</td>\n",
       "      <td>12.071218</td>\n",
       "    </tr>\n",
       "    <tr>\n",
       "      <th>192</th>\n",
       "      <td>15.9</td>\n",
       "      <td>12.098163</td>\n",
       "      <td>3.801837</td>\n",
       "    </tr>\n",
       "    <tr>\n",
       "      <th>66</th>\n",
       "      <td>21.5</td>\n",
       "      <td>22.329181</td>\n",
       "      <td>-0.829181</td>\n",
       "    </tr>\n",
       "    <tr>\n",
       "      <th>127</th>\n",
       "      <td>17.4</td>\n",
       "      <td>19.163223</td>\n",
       "      <td>-1.763223</td>\n",
       "    </tr>\n",
       "    <tr>\n",
       "      <th>161</th>\n",
       "      <td>14.6</td>\n",
       "      <td>11.920730</td>\n",
       "      <td>2.679270</td>\n",
       "    </tr>\n",
       "    <tr>\n",
       "      <th>237</th>\n",
       "      <td>27.3</td>\n",
       "      <td>11.136973</td>\n",
       "      <td>16.163027</td>\n",
       "    </tr>\n",
       "    <tr>\n",
       "      <th>244</th>\n",
       "      <td>29.0</td>\n",
       "      <td>27.018999</td>\n",
       "      <td>1.981001</td>\n",
       "    </tr>\n",
       "    <tr>\n",
       "      <th>94</th>\n",
       "      <td>9.0</td>\n",
       "      <td>24.646660</td>\n",
       "      <td>-15.646660</td>\n",
       "    </tr>\n",
       "    <tr>\n",
       "      <th>229</th>\n",
       "      <td>17.0</td>\n",
       "      <td>15.258989</td>\n",
       "      <td>1.741011</td>\n",
       "    </tr>\n",
       "    <tr>\n",
       "      <th>124</th>\n",
       "      <td>13.8</td>\n",
       "      <td>21.867888</td>\n",
       "      <td>-8.067888</td>\n",
       "    </tr>\n",
       "    <tr>\n",
       "      <th>177</th>\n",
       "      <td>29.9</td>\n",
       "      <td>6.821697</td>\n",
       "      <td>23.078303</td>\n",
       "    </tr>\n",
       "    <tr>\n",
       "      <th>227</th>\n",
       "      <td>25.2</td>\n",
       "      <td>5.185966</td>\n",
       "      <td>20.014034</td>\n",
       "    </tr>\n",
       "    <tr>\n",
       "      <th>162</th>\n",
       "      <td>13.0</td>\n",
       "      <td>21.006793</td>\n",
       "      <td>-8.006793</td>\n",
       "    </tr>\n",
       "    <tr>\n",
       "      <th>165</th>\n",
       "      <td>19.2</td>\n",
       "      <td>20.703163</td>\n",
       "      <td>-1.503163</td>\n",
       "    </tr>\n",
       "    <tr>\n",
       "      <th>48</th>\n",
       "      <td>13.6</td>\n",
       "      <td>20.676487</td>\n",
       "      <td>-7.076487</td>\n",
       "    </tr>\n",
       "    <tr>\n",
       "      <th>185</th>\n",
       "      <td>8.6</td>\n",
       "      <td>13.472654</td>\n",
       "      <td>-4.872654</td>\n",
       "    </tr>\n",
       "    <tr>\n",
       "      <th>2</th>\n",
       "      <td>25.3</td>\n",
       "      <td>15.641868</td>\n",
       "      <td>9.658132</td>\n",
       "    </tr>\n",
       "    <tr>\n",
       "      <th>104</th>\n",
       "      <td>25.4</td>\n",
       "      <td>17.447508</td>\n",
       "      <td>7.952492</td>\n",
       "    </tr>\n",
       "    <tr>\n",
       "      <th>238</th>\n",
       "      <td>12.4</td>\n",
       "      <td>14.431585</td>\n",
       "      <td>-2.031585</td>\n",
       "    </tr>\n",
       "    <tr>\n",
       "      <th>217</th>\n",
       "      <td>7.5</td>\n",
       "      <td>13.746248</td>\n",
       "      <td>-6.246248</td>\n",
       "    </tr>\n",
       "    <tr>\n",
       "      <th>67</th>\n",
       "      <td>13.8</td>\n",
       "      <td>21.920599</td>\n",
       "      <td>-8.120599</td>\n",
       "    </tr>\n",
       "    <tr>\n",
       "      <th>97</th>\n",
       "      <td>11.3</td>\n",
       "      <td>31.054952</td>\n",
       "      <td>-19.754952</td>\n",
       "    </tr>\n",
       "    <tr>\n",
       "      <th>169</th>\n",
       "      <td>16.5</td>\n",
       "      <td>24.311881</td>\n",
       "      <td>-7.811881</td>\n",
       "    </tr>\n",
       "    <tr>\n",
       "      <th>71</th>\n",
       "      <td>8.8</td>\n",
       "      <td>15.280764</td>\n",
       "      <td>-6.480764</td>\n",
       "    </tr>\n",
       "    <tr>\n",
       "      <th>3</th>\n",
       "      <td>10.4</td>\n",
       "      <td>7.407807</td>\n",
       "      <td>2.992193</td>\n",
       "    </tr>\n",
       "    <tr>\n",
       "      <th>235</th>\n",
       "      <td>18.6</td>\n",
       "      <td>13.384319</td>\n",
       "      <td>5.215681</td>\n",
       "    </tr>\n",
       "    <tr>\n",
       "      <th>102</th>\n",
       "      <td>20.1</td>\n",
       "      <td>24.711592</td>\n",
       "      <td>-4.611592</td>\n",
       "    </tr>\n",
       "    <tr>\n",
       "      <th>93</th>\n",
       "      <td>24.9</td>\n",
       "      <td>10.635167</td>\n",
       "      <td>14.264833</td>\n",
       "    </tr>\n",
       "    <tr>\n",
       "      <th>209</th>\n",
       "      <td>10.8</td>\n",
       "      <td>17.711064</td>\n",
       "      <td>-6.911064</td>\n",
       "    </tr>\n",
       "    <tr>\n",
       "      <th>137</th>\n",
       "      <td>29.4</td>\n",
       "      <td>19.411306</td>\n",
       "      <td>9.988694</td>\n",
       "    </tr>\n",
       "    <tr>\n",
       "      <th>121</th>\n",
       "      <td>25.3</td>\n",
       "      <td>19.138457</td>\n",
       "      <td>6.161543</td>\n",
       "    </tr>\n",
       "    <tr>\n",
       "      <th>38</th>\n",
       "      <td>35.2</td>\n",
       "      <td>4.013854</td>\n",
       "      <td>31.186146</td>\n",
       "    </tr>\n",
       "    <tr>\n",
       "      <th>101</th>\n",
       "      <td>20.4</td>\n",
       "      <td>21.259677</td>\n",
       "      <td>-0.859677</td>\n",
       "    </tr>\n",
       "    <tr>\n",
       "      <th>32</th>\n",
       "      <td>11.8</td>\n",
       "      <td>16.148327</td>\n",
       "      <td>-4.348327</td>\n",
       "    </tr>\n",
       "    <tr>\n",
       "      <th>120</th>\n",
       "      <td>27.9</td>\n",
       "      <td>17.033994</td>\n",
       "      <td>10.866006</td>\n",
       "    </tr>\n",
       "    <tr>\n",
       "      <th>125</th>\n",
       "      <td>17.5</td>\n",
       "      <td>11.455079</td>\n",
       "      <td>6.044921</td>\n",
       "    </tr>\n",
       "    <tr>\n",
       "      <th>112</th>\n",
       "      <td>22.1</td>\n",
       "      <td>14.168127</td>\n",
       "      <td>7.931873</td>\n",
       "    </tr>\n",
       "    <tr>\n",
       "      <th>103</th>\n",
       "      <td>22.3</td>\n",
       "      <td>24.017095</td>\n",
       "      <td>-1.717095</td>\n",
       "    </tr>\n",
       "    <tr>\n",
       "      <th>6</th>\n",
       "      <td>19.2</td>\n",
       "      <td>30.046472</td>\n",
       "      <td>-10.846472</td>\n",
       "    </tr>\n",
       "    <tr>\n",
       "      <th>20</th>\n",
       "      <td>19.1</td>\n",
       "      <td>9.077413</td>\n",
       "      <td>10.022587</td>\n",
       "    </tr>\n",
       "    <tr>\n",
       "      <th>27</th>\n",
       "      <td>22.9</td>\n",
       "      <td>14.026843</td>\n",
       "      <td>8.873157</td>\n",
       "    </tr>\n",
       "    <tr>\n",
       "      <th>132</th>\n",
       "      <td>23.6</td>\n",
       "      <td>21.946199</td>\n",
       "      <td>1.653801</td>\n",
       "    </tr>\n",
       "    <tr>\n",
       "      <th>155</th>\n",
       "      <td>17.3</td>\n",
       "      <td>28.344803</td>\n",
       "      <td>-11.044803</td>\n",
       "    </tr>\n",
       "    <tr>\n",
       "      <th>146</th>\n",
       "      <td>19.2</td>\n",
       "      <td>21.187222</td>\n",
       "      <td>-1.987222</td>\n",
       "    </tr>\n",
       "    <tr>\n",
       "      <th>141</th>\n",
       "      <td>18.3</td>\n",
       "      <td>23.171984</td>\n",
       "      <td>-4.871984</td>\n",
       "    </tr>\n",
       "    <tr>\n",
       "      <th>231</th>\n",
       "      <td>16.1</td>\n",
       "      <td>9.781751</td>\n",
       "      <td>6.318249</td>\n",
       "    </tr>\n",
       "    <tr>\n",
       "      <th>117</th>\n",
       "      <td>13.9</td>\n",
       "      <td>37.800236</td>\n",
       "      <td>-23.900236</td>\n",
       "    </tr>\n",
       "  </tbody>\n",
       "</table>\n",
       "</div>"
      ],
      "text/plain": [
       "     Gerçek     Tahmin       Hata\n",
       "113    21.3  19.524975   1.775025\n",
       "30     11.9  19.373721  -7.473721\n",
       "133    26.1  27.543696  -1.443696\n",
       "40     34.5  20.412019  14.087981\n",
       "4      28.7  16.628782  12.071218\n",
       "192    15.9  12.098163   3.801837\n",
       "66     21.5  22.329181  -0.829181\n",
       "127    17.4  19.163223  -1.763223\n",
       "161    14.6  11.920730   2.679270\n",
       "237    27.3  11.136973  16.163027\n",
       "244    29.0  27.018999   1.981001\n",
       "94      9.0  24.646660 -15.646660\n",
       "229    17.0  15.258989   1.741011\n",
       "124    13.8  21.867888  -8.067888\n",
       "177    29.9   6.821697  23.078303\n",
       "227    25.2   5.185966  20.014034\n",
       "162    13.0  21.006793  -8.006793\n",
       "165    19.2  20.703163  -1.503163\n",
       "48     13.6  20.676487  -7.076487\n",
       "185     8.6  13.472654  -4.872654\n",
       "2      25.3  15.641868   9.658132\n",
       "104    25.4  17.447508   7.952492\n",
       "238    12.4  14.431585  -2.031585\n",
       "217     7.5  13.746248  -6.246248\n",
       "67     13.8  21.920599  -8.120599\n",
       "97     11.3  31.054952 -19.754952\n",
       "169    16.5  24.311881  -7.811881\n",
       "71      8.8  15.280764  -6.480764\n",
       "3      10.4   7.407807   2.992193\n",
       "235    18.6  13.384319   5.215681\n",
       "102    20.1  24.711592  -4.611592\n",
       "93     24.9  10.635167  14.264833\n",
       "209    10.8  17.711064  -6.911064\n",
       "137    29.4  19.411306   9.988694\n",
       "121    25.3  19.138457   6.161543\n",
       "38     35.2   4.013854  31.186146\n",
       "101    20.4  21.259677  -0.859677\n",
       "32     11.8  16.148327  -4.348327\n",
       "120    27.9  17.033994  10.866006\n",
       "125    17.5  11.455079   6.044921\n",
       "112    22.1  14.168127   7.931873\n",
       "103    22.3  24.017095  -1.717095\n",
       "6      19.2  30.046472 -10.846472\n",
       "20     19.1   9.077413  10.022587\n",
       "27     22.9  14.026843   8.873157\n",
       "132    23.6  21.946199   1.653801\n",
       "155    17.3  28.344803 -11.044803\n",
       "146    19.2  21.187222  -1.987222\n",
       "141    18.3  23.171984  -4.871984\n",
       "231    16.1   9.781751   6.318249\n",
       "117    13.9  37.800236 -23.900236"
      ]
     },
     "execution_count": 53,
     "metadata": {},
     "output_type": "execute_result"
    }
   ],
   "source": [
    "df_errors"
   ]
  },
  {
   "cell_type": "code",
   "execution_count": 54,
   "id": "65c4c67e",
   "metadata": {},
   "outputs": [
    {
     "data": {
      "image/png": "[encoded data removed]",
      "text/plain": [
       "<Figure size 432x288 with 1 Axes>"
      ]
     },
     "metadata": {
      "needs_background": "light"
     },
     "output_type": "display_data"
    },
    {
     "data": {
      "image/png": "[encoded data removed]",
      "text/plain": [
       "<Figure size 432x288 with 1 Axes>"
      ]
     },
     "metadata": {
      "needs_background": "light"
     },
     "output_type": "display_data"
    },
    {
     "data": {
      "image/png": "[encoded data removed]",
      "text/plain": [
       "<Figure size 432x288 with 1 Axes>"
      ]
     },
     "metadata": {
      "needs_background": "light"
     },
     "output_type": "display_data"
    },
    {
     "data": {
      "image/png": "[encoded data removed]",
      "text/plain": [
       "<Figure size 432x288 with 1 Axes>"
      ]
     },
     "metadata": {
      "needs_background": "light"
     },
     "output_type": "display_data"
    },
    {
     "data": {
      "image/png": "[encoded data removed]",
      "text/plain": [
       "<Figure size 432x288 with 1 Axes>"
      ]
     },
     "metadata": {
      "needs_background": "light"
     },
     "output_type": "display_data"
    },
    {
     "data": {
      "image/png": "[encoded data removed]",
      "text/plain": [
       "<Figure size 432x288 with 1 Axes>"
      ]
     },
     "metadata": {
      "needs_background": "light"
     },
     "output_type": "display_data"
    },
    {
     "data": {
      "image/png": "[encoded data removed]",
      "text/plain": [
       "<Figure size 432x288 with 1 Axes>"
      ]
     },
     "metadata": {
      "needs_background": "light"
     },
     "output_type": "display_data"
    },
    {
     "data": {
      "image/png": "[encoded data removed]",
      "text/plain": [
       "<Figure size 432x288 with 1 Axes>"
      ]
     },
     "metadata": {
      "needs_background": "light"
     },
     "output_type": "display_data"
    },
    {
     "data": {
      "image/png": "[encoded data removed]",
      "text/plain": [
       "<Figure size 432x288 with 1 Axes>"
      ]
     },
     "metadata": {
      "needs_background": "light"
     },
     "output_type": "display_data"
    },
    {
     "data": {
      "image/png": "[encoded data removed]",
      "text/plain": [
       "<Figure size 432x288 with 1 Axes>"
      ]
     },
     "metadata": {
      "needs_background": "light"
     },
     "output_type": "display_data"
    },
    {
     "data": {
      "image/png": "[encoded data removed]",
      "text/plain": [
       "<Figure size 432x288 with 1 Axes>"
      ]
     },
     "metadata": {
      "needs_background": "light"
     },
     "output_type": "display_data"
    },
    {
     "data": {
      "image/png": "[encoded data removed]",
      "text/plain": [
       "<Figure size 432x288 with 1 Axes>"
      ]
     },
     "metadata": {
      "needs_background": "light"
     },
     "output_type": "display_data"
    },
    {
     "data": {
      "image/png": "[encoded data removed]",
      "text/plain": [
       "<Figure size 432x288 with 1 Axes>"
      ]
     },
     "metadata": {
      "needs_background": "light"
     },
     "output_type": "display_data"
    },
    {
     "data": {
      "image/png": "[encoded data removed]",
      "text/plain": [
       "<Figure size 432x288 with 1 Axes>"
      ]
     },
     "metadata": {
      "needs_background": "light"
     },
     "output_type": "display_data"
    },
    {
     "data": {
      "image/png": "[encoded data removed]",
      "text/plain": [
       "<Figure size 432x288 with 1 Axes>"
      ]
     },
     "metadata": {
      "needs_background": "light"
     },
     "output_type": "display_data"
    }
   ],
   "source": [
    "hatalar = y_test - y_pred\n",
    "\n",
    "for feature in X_train.columns:\n",
    "    plt.scatter(X_test[feature], hatalar)\n",
    "    plt.title(f\"Hata vs {feature}\")\n",
    "    plt.xlabel(feature)\n",
    "    plt.ylabel('Hata')\n",
    "    plt.show()"
   ]
  },
  {
   "cell_type": "code",
   "execution_count": null,
   "id": "1f9899ab",
   "metadata": {},
   "outputs": [],
   "source": []
  }
 ],
 "metadata": {
  "kernelspec": {
   "display_name": "Python 3 (ipykernel)",
   "language": "python",
   "name": "python3"
  },
  "language_info": {
   "codemirror_mode": {
    "name": "ipython",
    "version": 3
   },
   "file_extension": ".py",
   "mimetype": "text/x-python",
   "name": "python",
   "nbconvert_exporter": "python",
   "pygments_lexer": "ipython3",
   "version": "3.9.12"
  }
 },
 "nbformat": 4,
 "nbformat_minor": 5
}
